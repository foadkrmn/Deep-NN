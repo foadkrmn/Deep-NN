{
 "cells": [
  {
   "cell_type": "markdown",
   "metadata": {},
   "source": [
    "## What is TensorFlow?\n",
    "\n",
    "Tensorflow is an open source software library for numerical computation using data flow graphs. \n",
    "Nodes in the graph represent mathematical operations, while the graph edges represent the multidimensional data arrays (tensors) communicated between them.\n",
    "Tensorflow was developed to work in Python language. It works just as any other Python package which has its own Methods and architecture."
   ]
  },
  {
   "cell_type": "code",
   "execution_count": 1,
   "metadata": {},
   "outputs": [
    {
     "name": "stdout",
     "output_type": "stream",
     "text": [
      "Python 2.7.13 :: Anaconda 4.4.0 (x86_64)\r\n"
     ]
    }
   ],
   "source": [
    "!python --version"
   ]
  },
  {
   "cell_type": "markdown",
   "metadata": {},
   "source": [
    "# TensorFlow and Graphs\n",
    "\n",
    "In tensorflow we must create an architecture with all the functions and connections for our data to go through. This architecture is called **\"Graph\"**. Only once we have created our Graph, it can be fed with the data we want to analize. This is done through a feed dictionary, and it is one of the main differences between Tensorflow and other frameworks that deal with tensor computation.\n",
    "\n",
    "## Building a Graph\n",
    "\n",
    "There are three main components within a graph which will be used to compute whatever task we want to accomplish. Constants, Variables and Placeholders:\n",
    "\n",
    "** - Constants:** As the name suggests, this parameters are constant values that will not change once we have created the Graph. They can represent simple things such as the number of hidden units we want in each layer of a Neural Network (NN).\n",
    "\n",
    "** - Variables:** Correspond to those parameters we need to adjust or *tune* to fit our model according to the data we have. In the case of a NN, this Variables will be the **Weights** and **Biases** of the network.\n",
    "\n",
    "** - Placeholders:** Parameters which will be fed with the data given to the Graph to run or train itself. Normally the dimension corresponding to the size of the data is not defined, so we can analize batches of different sizes. In a NN, placeholders would be defined for the input $X$ and the expected output value $y_{true}$.\n",
    "\n",
    "Let us now build our first small Graph!"
   ]
  },
  {
   "cell_type": "code",
   "execution_count": 2,
   "metadata": {
    "collapsed": true
   },
   "outputs": [],
   "source": [
    "import tensorflow as tf\n",
    "import numpy as np\n",
    "import matplotlib.pyplot as plt\n",
    "plt.style.use('ggplot')\n",
    "%matplotlib inline"
   ]
  },
  {
   "cell_type": "code",
   "execution_count": 3,
   "metadata": {},
   "outputs": [
    {
     "data": {
      "text/plain": [
       "tensorflow.python.framework.ops.Tensor"
      ]
     },
     "execution_count": 3,
     "metadata": {},
     "output_type": "execute_result"
    }
   ],
   "source": [
    "hello = tf.constant('Hello ')\n",
    "type(hello)"
   ]
  },
  {
   "cell_type": "code",
   "execution_count": 4,
   "metadata": {
    "collapsed": true
   },
   "outputs": [],
   "source": [
    "world = tf.constant('World')"
   ]
  },
  {
   "cell_type": "code",
   "execution_count": 5,
   "metadata": {
    "collapsed": true
   },
   "outputs": [],
   "source": [
    "output = hello+world"
   ]
  },
  {
   "cell_type": "code",
   "execution_count": 6,
   "metadata": {},
   "outputs": [
    {
     "name": "stdout",
     "output_type": "stream",
     "text": [
      "Tensor(\"add:0\", shape=(), dtype=string)\n"
     ]
    }
   ],
   "source": [
    "print(output)"
   ]
  },
  {
   "cell_type": "markdown",
   "metadata": {},
   "source": [
    "As we can see, though there are no errors in our code we are not getting the desired output. The reason is that TensorFlow needs to run all of its operation (the Graph) within a **Session**."
   ]
  },
  {
   "cell_type": "code",
   "execution_count": 7,
   "metadata": {},
   "outputs": [
    {
     "name": "stdout",
     "output_type": "stream",
     "text": [
      "Hello World\n"
     ]
    }
   ],
   "source": [
    "with tf.Session() as sess:\n",
    "    print(sess.run(output))\n",
    "    "
   ]
  },
  {
   "cell_type": "markdown",
   "metadata": {},
   "source": [
    "Through the Session we can **compute** any paramater of the graph, with the method sess.run(). As we will see later on, the sess.run() method has to be fed with the requiered data to fill the placeholders needed to calculate the parameter we want to output. \n",
    "\n",
    "To get a better grip of this idea, let's build a Neural Network for a simple Regression task."
   ]
  },
  {
   "cell_type": "markdown",
   "metadata": {},
   "source": [
    "# Neural Network for Regression\n",
    "\n",
    "Lets now start with our first Neural Network! We will create a small NN for regression with an input layer, a hidden layer and an output layer."
   ]
  },
  {
   "cell_type": "code",
   "execution_count": 8,
   "metadata": {},
   "outputs": [
    {
     "name": "stdout",
     "output_type": "stream",
     "text": [
      "(200,)\n"
     ]
    }
   ],
   "source": [
    "#Create a toy example data\n",
    "N = 200\n",
    "X_toy = np.linspace(0,2*np.pi,N) #Generate N dapoints between 0 and pi\n",
    "y_toy = np.cos(X_toy)+np.random.uniform(-1,1,N)*0.05 #Add 5% noise\n",
    "\n",
    "print(np.shape(X_toy))\n"
   ]
  },
  {
   "cell_type": "code",
   "execution_count": 9,
   "metadata": {},
   "outputs": [
    {
     "name": "stdout",
     "output_type": "stream",
     "text": [
      "(200, 1)\n"
     ]
    },
    {
     "data": {
      "text/plain": [
       "<matplotlib.collections.PathCollection at 0x119902bd0>"
      ]
     },
     "execution_count": 9,
     "metadata": {},
     "output_type": "execute_result"
    },
    {
     "data": {
      "image/png": "[encoded data removed]",
      "text/plain": [
       "<matplotlib.figure.Figure at 0x116544c90>"
      ]
     },
     "metadata": {},
     "output_type": "display_data"
    }
   ],
   "source": [
    "X_toy= X_toy.astype(np.float32).reshape((N, 1))\n",
    "y_toy = y_toy.astype(np.float32).reshape((N, 1))\n",
    "\n",
    "print(np.shape(X_toy))\n",
    "plt.scatter(X_toy,y_toy,c='blue')"
   ]
  },
  {
   "cell_type": "code",
   "execution_count": 10,
   "metadata": {
    "collapsed": true
   },
   "outputs": [],
   "source": [
    "N = 50\n",
    "X_test = np.random.rand(N)*2*np.pi #Generate N dapoints between 0 and pi\n",
    "y_test = np.cos(X_test)\n",
    "\n",
    "X_test= X_test.astype(np.float32).reshape((N, 1))\n",
    "y_test = y_test.astype(np.float32).reshape((N, 1))"
   ]
  },
  {
   "cell_type": "code",
   "execution_count": 11,
   "metadata": {
    "collapsed": true
   },
   "outputs": [],
   "source": [
    "n_input_features = 1\n",
    "n_output = 1 #For regression we usually use only one output. For classification we use as many outputs as classes we have\n",
    "n_hidden_units = 10"
   ]
  },
  {
   "cell_type": "markdown",
   "metadata": {},
   "source": [
    "**Placeholders:**\n",
    "Need to be given a shape and type of the input."
   ]
  },
  {
   "cell_type": "code",
   "execution_count": 12,
   "metadata": {
    "collapsed": true
   },
   "outputs": [],
   "source": [
    "tf.reset_default_graph()\n",
    "x = tf.placeholder(tf.float32,(None,n_input_features)) #None helps the placeholder to adjust to the batch size\n",
    "y_true = tf.placeholder(tf.float32,(None,n_output)) #Nx1"
   ]
  },
  {
   "cell_type": "markdown",
   "metadata": {},
   "source": [
    "**Variables:** Need to be given the shape with an initial value"
   ]
  },
  {
   "cell_type": "code",
   "execution_count": 13,
   "metadata": {
    "collapsed": true
   },
   "outputs": [],
   "source": [
    "#Input to hidden layer\n",
    "initial_weight_1 = tf.truncated_normal([n_input_features,n_hidden_units], stddev=0.1)\n",
    "weight_1  = tf.Variable(initial_weight_1)\n",
    "initial_bias_1 = tf.constant(0.1, shape = [n_hidden_units])\n",
    "bias_1 = tf.Variable(initial_bias_1)\n",
    "\n",
    "#Hidden to output layer\n",
    "initial_weight_2 = tf.truncated_normal([n_hidden_units,n_output], stddev=0.1)\n",
    "weight_2  = tf.Variable(initial_weight_2)\n",
    "initial_bias_2 = tf.constant(0.1, shape = [n_output]) \n",
    "bias_2 = tf.Variable(initial_bias_2)\n",
    "\n"
   ]
  },
  {
   "cell_type": "markdown",
   "metadata": {},
   "source": [
    "**Graph:** We define the operation we would like our Graph to execute"
   ]
  },
  {
   "cell_type": "code",
   "execution_count": 14,
   "metadata": {
    "collapsed": true
   },
   "outputs": [],
   "source": [
    "h_1 = tf.nn.relu(tf.matmul(x,weight_1)+bias_1)\n",
    "y_pred = tf.nn.tanh(tf.matmul(h_1,weight_2)+bias_2)"
   ]
  },
  {
   "cell_type": "markdown",
   "metadata": {},
   "source": [
    "**Loss:** We define a loss or cost function, which we want to minimize through trainning."
   ]
  },
  {
   "cell_type": "code",
   "execution_count": 15,
   "metadata": {
    "collapsed": true
   },
   "outputs": [],
   "source": [
    "loss = tf.reduce_mean(tf.square(tf.subtract(y_pred,y_true)))\n",
    "accuracy = tf.sqrt(tf.reduce_mean(0.5*tf.square(tf.subtract(y_pred,y_true)))) #RMSE"
   ]
  },
  {
   "cell_type": "markdown",
   "metadata": {},
   "source": [
    "**Optimizer**"
   ]
  },
  {
   "cell_type": "code",
   "execution_count": 16,
   "metadata": {
    "collapsed": true
   },
   "outputs": [],
   "source": [
    "optimizer = tf.train.GradientDescentOptimizer(learning_rate=0.001)\n",
    "train = optimizer.minimize(loss) "
   ]
  },
  {
   "cell_type": "markdown",
   "metadata": {},
   "source": [
    "**Initialize variable:** Once we are all set, we create an initializer for all the variables we want to train."
   ]
  },
  {
   "cell_type": "code",
   "execution_count": 17,
   "metadata": {
    "collapsed": true
   },
   "outputs": [],
   "source": [
    "init = tf.global_variables_initializer()"
   ]
  },
  {
   "cell_type": "markdown",
   "metadata": {},
   "source": [
    "Ways of creating a session\n",
    "\n",
    "sess = tf.Session()\n",
    "sess = tf.InteractiveSession()\n",
    "with tf.Session() as sess:''''''"
   ]
  },
  {
   "cell_type": "markdown",
   "metadata": {},
   "source": [
    "## Session\n",
    "\n",
    "As it was mentioned before, the session is the place where all the operations take place. Through the session we can run, optimize and execute the different operations and parameters we have created in our Graph."
   ]
  },
  {
   "cell_type": "code",
   "execution_count": 18,
   "metadata": {},
   "outputs": [
    {
     "name": "stdout",
     "output_type": "stream",
     "text": [
      "Training epoch 0/1000. Loss = 0.47807982564, RMSE = 0.488917082548\n",
      "Training epoch 100/1000. Loss = 0.479021430016, RMSE = 0.48939833045\n",
      "Training epoch 200/1000. Loss = 0.474342435598, RMSE = 0.487002283335\n",
      "Training epoch 300/1000. Loss = 0.464668929577, RMSE = 0.48201084137\n",
      "Training epoch 400/1000. Loss = 0.44511282444, RMSE = 0.471758842468\n",
      "Training epoch 500/1000. Loss = 0.412269830704, RMSE = 0.454020828009\n",
      "Training epoch 600/1000. Loss = 0.365571945906, RMSE = 0.427534759045\n",
      "Training epoch 700/1000. Loss = 0.309283614159, RMSE = 0.393245220184\n",
      "Training epoch 800/1000. Loss = 0.251831680536, RMSE = 0.354846209288\n",
      "Training epoch 900/1000. Loss = 0.1998282969, RMSE = 0.31609198451\n"
     ]
    }
   ],
   "source": [
    "with tf.Session() as sess:\n",
    "    sess.run(init) # initialize all the variables before training\n",
    "    batch_size = 10 # we will feed the network with batches of 10 data points and train only with this datapoint \n",
    "    batches = len(X_toy)//batch_size # the network is fed as many times as necessary to train with all the data\n",
    "    epochs = 1000 # Once we have train our network with all of our dta points we have completed one epoch.\n",
    "    \n",
    "    for epoch in range(epochs): #we train for all the epochs we want\n",
    "        for i in range(batches): #we train for all the batches in the dataset\n",
    "            \n",
    "            batch_x = X_toy[i*batch_size:(i+1)*batch_size]\n",
    "            batch_y = y_toy[i*batch_size:(i+1)*batch_size]\n",
    "            \n",
    "            sess.run(train, feed_dict={x: batch_x,y_true: batch_y}) # Run the \"train\" operation, feeding the data to fill placeholders\n",
    "        \n",
    "        \n",
    "    \n",
    "        if epoch%100 == 0:\n",
    "            test_loss = sess.run(loss,feed_dict={x: X_test,y_true: y_test})\n",
    "            test_acc = sess.run(accuracy,feed_dict={x: X_test,y_true: y_test})\n",
    "            print('Training epoch {}/{}. Loss = {}, RMSE = {}'.format(epoch,epochs,test_loss,test_acc))\n",
    "    \n",
    "    prediction = sess.run(y_pred,feed_dict={x: X_toy})"
   ]
  },
  {
   "cell_type": "markdown",
   "metadata": {},
   "source": [
    "Now that we have trained the model, it is easy to see how tensorflow works. We can see that if we want to run the *\"train\"* instance, we need to feed data to both placeholders we have defined (*x* and *y_true*), since they are part of the graph needed to compute *\"train\"*. However, when we ask the session to compute \"y_pred\" to see the output of the network, we only need to pass in data to fill the placeholder *\"x\"*, since the portion of the graph needed to calculate *\"y_pred\"* does not need to use the placeholder *\"y_true\"*. "
   ]
  },
  {
   "cell_type": "code",
   "execution_count": 19,
   "metadata": {},
   "outputs": [
    {
     "data": {
      "text/plain": [
       "[<matplotlib.lines.Line2D at 0x119b5c890>]"
      ]
     },
     "execution_count": 19,
     "metadata": {},
     "output_type": "execute_result"
    },
    {
     "data": {
      "image/png": "[encoded data removed]",
      "text/plain": [
       "<matplotlib.figure.Figure at 0x1165a3290>"
      ]
     },
     "metadata": {},
     "output_type": "display_data"
    }
   ],
   "source": [
    "plt.scatter(X_toy,y_toy,c='blue') #Plot labels\n",
    "plt.plot(X_toy,prediction) #Plot NN prediction"
   ]
  },
  {
   "cell_type": "code",
   "execution_count": 20,
   "metadata": {
    "scrolled": true
   },
   "outputs": [
    {
     "data": {
      "text/plain": [
       "[<matplotlib.lines.Line2D at 0x119bf8fd0>]"
      ]
     },
     "execution_count": 20,
     "metadata": {},
     "output_type": "execute_result"
    },
    {
     "data": {
      "image/png": "[encoded data removed]",
      "text/plain": [
       "<matplotlib.figure.Figure at 0x116593b90>"
      ]
     },
     "metadata": {},
     "output_type": "display_data"
    }
   ],
   "source": [
    "y_ = np.cos(X_toy) #without the noise\n",
    "plt.plot(X_toy,y_,c='blue')\n",
    "plt.plot(X_toy,prediction)"
   ]
  },
  {
   "cell_type": "markdown",
   "metadata": {},
   "source": [
    "# Deep Neural Network for Classification\n",
    "\n",
    "We will perform a classification task for the MFPT dataset."
   ]
  },
  {
   "cell_type": "code",
   "execution_count": 21,
   "metadata": {
    "collapsed": true
   },
   "outputs": [],
   "source": [
    "import os\n",
    "from scipy import misc\n",
    "import numpy as np\n",
    "import re\n",
    "import seaborn as sn\n",
    "import pandas as pd\n",
    "from sklearn.preprocessing import OneHotEncoder\n",
    "from sklearn.metrics import confusion_matrix\n"
   ]
  },
  {
   "cell_type": "code",
   "execution_count": 22,
   "metadata": {},
   "outputs": [
    {
     "name": "stdout",
     "output_type": "stream",
     "text": [
      "My path is : /Users/ELD/Documents/UChile/Courses/Deep Learning for Diagnosis and Prognosis/Jupyter Tutorials/Deep Neural Nets\n"
     ]
    }
   ],
   "source": [
    "print('My path is : {}'.format(os.getcwd()))"
   ]
  },
  {
   "cell_type": "code",
   "execution_count": 23,
   "metadata": {
    "collapsed": true
   },
   "outputs": [],
   "source": [
    "rgb = True\n",
    "images=[]\n",
    "names=[]\n",
    "n_images=0\n",
    "target=[]\n",
    "Folder = \"MFPT32Spectrograms\"\n",
    "path= os.getcwd()+\"//\"+Folder"
   ]
  },
  {
   "cell_type": "code",
   "execution_count": 24,
   "metadata": {},
   "outputs": [
    {
     "name": "stdout",
     "output_type": "stream",
     "text": [
      "Oops...Not an image file\n",
      "Oops...Not an image file\n"
     ]
    }
   ],
   "source": [
    "#iterate over the files in the folder\n",
    "for filename in os.listdir(path):\n",
    "    try:\n",
    "        n_images+=1\n",
    "        names.append(filename)\n",
    "        img = misc.imread(path + '/' + filename, flatten = not rgb)\n",
    "        images.append(img)\n",
    "    except (OSError, IOError):\n",
    "        print('Oops...Not an image file')\n",
    "        continue\n",
    "\n",
    "#save the labels\n",
    "for name in names:\n",
    "    try:\n",
    "        name=name.split(\".\")[0]        \n",
    "        target_n = re.split(\"_\", name)[1]\n",
    "        target.append(target_n)\n",
    "    except (IndexError):\n",
    "        print('Oops...Not an image file')\n",
    "        continue"
   ]
  },
  {
   "cell_type": "code",
   "execution_count": 25,
   "metadata": {
    "collapsed": true
   },
   "outputs": [],
   "source": [
    "#save the data\n",
    "data = np.asarray(images)\n",
    "X = np.reshape(data,(data.shape[0],data.shape[1]*data.shape[2]*data.shape[3])) #Reshape, so each row is an image\n",
    "labels=(np.asarray(target)).astype(np.float)\n",
    "\n",
    "#np.save('data'+\"_\"+Folder, data)\n",
    "#np.save('labels'+\"_\"+Folder, target)"
   ]
  },
  {
   "cell_type": "code",
   "execution_count": 26,
   "metadata": {},
   "outputs": [
    {
     "data": {
      "text/plain": [
       "(10848, 3)"
      ]
     },
     "execution_count": 26,
     "metadata": {},
     "output_type": "execute_result"
    }
   ],
   "source": [
    "enc = OneHotEncoder(sparse=False)\n",
    "y = enc.fit_transform(labels.reshape(-1,1))\n",
    "np.shape(y)"
   ]
  },
  {
   "cell_type": "code",
   "execution_count": 27,
   "metadata": {},
   "outputs": [
    {
     "data": {
      "text/plain": [
       "<matplotlib.image.AxesImage at 0x11c9cb350>"
      ]
     },
     "execution_count": 27,
     "metadata": {},
     "output_type": "execute_result"
    },
    {
     "data": {
      "image/png": "[encoded data removed]",
      "text/plain": [
       "<matplotlib.figure.Figure at 0x11a68f290>"
      ]
     },
     "metadata": {},
     "output_type": "display_data"
    }
   ],
   "source": [
    "sample = X[0]\n",
    "sample = np.reshape(sample,(32,32,3))\n",
    "plt.imshow(sample)"
   ]
  },
  {
   "cell_type": "code",
   "execution_count": 28,
   "metadata": {},
   "outputs": [
    {
     "name": "stdout",
     "output_type": "stream",
     "text": [
      "We have n = 3 different classes\n"
     ]
    }
   ],
   "source": [
    "n_classes = int(max(labels)-min(labels)+1)\n",
    "print('We have n = {} different classes'.format(n_classes))"
   ]
  },
  {
   "cell_type": "code",
   "execution_count": 29,
   "metadata": {
    "collapsed": true
   },
   "outputs": [],
   "source": [
    "n_input_features = 32*32*3 #This is the length of the image when flatten out\n",
    "n_hidden_units_1 = 100\n",
    "n_hidden_units_2 = 100\n",
    "n_hidden_units_3 = 100\n",
    "n_output = n_classes # We need as many output neurons as classes we have"
   ]
  },
  {
   "cell_type": "code",
   "execution_count": 30,
   "metadata": {
    "collapsed": true
   },
   "outputs": [],
   "source": [
    "tf.reset_default_graph()"
   ]
  },
  {
   "cell_type": "code",
   "execution_count": 31,
   "metadata": {
    "collapsed": true
   },
   "outputs": [],
   "source": [
    "#We will create a newtwork with one input, three hidden, and an output layer\n",
    "def add_layer(inputs, in_size, out_size, activation_function=None, layer=\"Layer\"):\n",
    "    # add one more layer and return the output of this layer\n",
    "    with tf.name_scope(layer):\n",
    "        with tf.name_scope('weights'):\n",
    "            Weights = tf.Variable(tf.random_normal([in_size, out_size]), name='W')\n",
    "        with tf.name_scope('biases'):\n",
    "            biases = tf.Variable(tf.zeros([1, out_size]) + 0.1, name='b')\n",
    "        with tf.name_scope('Wx_plus_b'):\n",
    "            h = tf.add(tf.matmul(inputs, Weights), biases)\n",
    "         \n",
    "        return activation_function(h, )"
   ]
  },
  {
   "cell_type": "code",
   "execution_count": 32,
   "metadata": {
    "collapsed": true
   },
   "outputs": [],
   "source": [
    "with tf.name_scope(\"Inputs\"):\n",
    "    x = tf.placeholder(tf.float32,(None,n_input_features),name = \"data\") #None helps the placeholder to adjust to the batch size\n",
    "    y_true = tf.placeholder(tf.float32,(None,n_output),name = \"labels\") #Nx3"
   ]
  },
  {
   "cell_type": "code",
   "execution_count": 33,
   "metadata": {
    "collapsed": true
   },
   "outputs": [],
   "source": [
    "# add hidden layers\n",
    "h1 = add_layer(x, n_input_features, n_hidden_units_1, activation_function=tf.nn.relu, layer = \"Layer_1\") #Input to first hidden layer\n",
    "h2 = add_layer(h1, n_hidden_units_1, n_hidden_units_2, activation_function=tf.nn.relu, layer = \"Layer_2\") #First to Second hidden layer\n",
    "h3 = add_layer(h2, n_hidden_units_2, n_hidden_units_3, activation_function=tf.nn.relu, layer = \"Layer_3\") #Second to Third hidden layer\n",
    "\n",
    "# add output layer\n",
    "y_pred = add_layer(h3, n_hidden_units_3, n_output, activation_function=tf.nn.softmax, layer = \"Output\") #Third to output layer"
   ]
  },
  {
   "cell_type": "code",
   "execution_count": 34,
   "metadata": {
    "collapsed": true
   },
   "outputs": [],
   "source": [
    "with tf.name_scope(\"Cross_Entropy\"):\n",
    "    cross_entropy = tf.reduce_mean(tf.nn.softmax_cross_entropy_with_logits(labels=y_true,\n",
    "        logits=y_pred))\n",
    "    \n",
    "    tf.summary.scalar('Loss', cross_entropy)"
   ]
  },
  {
   "cell_type": "code",
   "execution_count": 35,
   "metadata": {
    "collapsed": true
   },
   "outputs": [],
   "source": [
    "with tf.name_scope(\"Train\"):\n",
    "    train_class = tf.train.GradientDescentOptimizer(0.0001).minimize(cross_entropy)"
   ]
  },
  {
   "cell_type": "code",
   "execution_count": 36,
   "metadata": {
    "collapsed": true
   },
   "outputs": [],
   "source": [
    "init = tf.global_variables_initializer()"
   ]
  },
  {
   "cell_type": "code",
   "execution_count": 37,
   "metadata": {
    "collapsed": true
   },
   "outputs": [],
   "source": [
    "correct_prediction = tf.equal(tf.argmax(y_pred,1), tf.argmax(y_true,1))\n",
    "accuracy = tf.reduce_mean(tf.cast(correct_prediction, tf.float32))"
   ]
  },
  {
   "cell_type": "markdown",
   "metadata": {},
   "source": [
    "### Data Preprocessing\n",
    "\n",
    "Now, though we have successfully defined our Graph and we are ready to start our Session, there is one more step before going into training. This is data preprocessing.\n",
    "\n",
    "First, we need to split our data set in a Training set and a Test set, since calculating the accuracy over the training data can lead to overfitting, and thus a bad model. Normal train-test splitting ratios go from 90-10% to 70-30%.\n",
    "\n",
    "On the other hand, when dealing with more than one feature in the input data, it is of good practice to normalize the data, so no feature is more important than others. Since we are not suppose to know anything about the test set, normalizing is fitted to the training set and then applyied to the test set."
   ]
  },
  {
   "cell_type": "code",
   "execution_count": 38,
   "metadata": {},
   "outputs": [
    {
     "name": "stderr",
     "output_type": "stream",
     "text": [
      "/Users/ELD/anaconda/lib/python2.7/site-packages/sklearn/utils/validation.py:429: DataConversionWarning: Data with input dtype uint8 was converted to float64 by MinMaxScaler.\n",
      "  warnings.warn(msg, _DataConversionWarning)\n"
     ]
    }
   ],
   "source": [
    "from sklearn.model_selection import train_test_split\n",
    "\n",
    "X_train,X_test,y_train,y_test=train_test_split(X,y,test_size=0.20,random_state=24) #20% of the data is left for testing\n",
    "\n",
    "from sklearn.preprocessing import MinMaxScaler\n",
    "sc_X=MinMaxScaler(feature_range=(-1,1))\n",
    "X_train=sc_X.fit_transform(X_train)\n",
    "X_test=sc_X.transform(X_test)"
   ]
  },
  {
   "cell_type": "code",
   "execution_count": 39,
   "metadata": {
    "collapsed": true
   },
   "outputs": [],
   "source": [
    "#Create path to save tensorborad file\n",
    "\n",
    "Folder = 'logs' \n",
    "File = 'Model_1'\n",
    "mypath = os.path.join(os.getcwd(),Folder)\n",
    "if not os.path.isdir(mypath):\n",
    "    os.makedirs(mypath)  \n",
    "        "
   ]
  },
  {
   "cell_type": "code",
   "execution_count": 40,
   "metadata": {},
   "outputs": [
    {
     "name": "stdout",
     "output_type": "stream",
     "text": [
      "Training epoch 9/200. Train Accuracy = 0.416666656733 , Test Accuracy = 0.391705065966\n",
      "Training epoch 19/200. Train Accuracy = 0.416666656733 , Test Accuracy = 0.391244232655\n",
      "Training epoch 29/200. Train Accuracy = 0.416666656733 , Test Accuracy = 0.394009202719\n"
     ]
    },
    {
     "ename": "KeyboardInterrupt",
     "evalue": "",
     "output_type": "error",
     "traceback": [
      "\u001b[0;31m---------------------------------------------------------------------------\u001b[0m",
      "\u001b[0;31mKeyboardInterrupt\u001b[0m                         Traceback (most recent call last)",
      "\u001b[0;32m<ipython-input-40-48fe88ea388b>\u001b[0m in \u001b[0;36m<module>\u001b[0;34m()\u001b[0m\n\u001b[1;32m     14\u001b[0m             \u001b[0mbatch_x\u001b[0m \u001b[0;34m=\u001b[0m \u001b[0mX_train\u001b[0m\u001b[0;34m[\u001b[0m\u001b[0mi\u001b[0m\u001b[0;34m*\u001b[0m\u001b[0mbatch_size\u001b[0m\u001b[0;34m:\u001b[0m\u001b[0;34m(\u001b[0m\u001b[0mi\u001b[0m\u001b[0;34m+\u001b[0m\u001b[0;36m1\u001b[0m\u001b[0;34m)\u001b[0m\u001b[0;34m*\u001b[0m\u001b[0mbatch_size\u001b[0m\u001b[0;34m]\u001b[0m\u001b[0;34m\u001b[0m\u001b[0m\n\u001b[1;32m     15\u001b[0m             \u001b[0mbatch_y\u001b[0m \u001b[0;34m=\u001b[0m \u001b[0my_train\u001b[0m\u001b[0;34m[\u001b[0m\u001b[0mi\u001b[0m\u001b[0;34m*\u001b[0m\u001b[0mbatch_size\u001b[0m\u001b[0;34m:\u001b[0m\u001b[0;34m(\u001b[0m\u001b[0mi\u001b[0m\u001b[0;34m+\u001b[0m\u001b[0;36m1\u001b[0m\u001b[0;34m)\u001b[0m\u001b[0;34m*\u001b[0m\u001b[0mbatch_size\u001b[0m\u001b[0;34m]\u001b[0m\u001b[0;34m\u001b[0m\u001b[0m\n\u001b[0;32m---> 16\u001b[0;31m             \u001b[0msess\u001b[0m\u001b[0;34m.\u001b[0m\u001b[0mrun\u001b[0m\u001b[0;34m(\u001b[0m\u001b[0mtrain_class\u001b[0m\u001b[0;34m,\u001b[0m \u001b[0mfeed_dict\u001b[0m\u001b[0;34m=\u001b[0m\u001b[0;34m{\u001b[0m\u001b[0mx\u001b[0m\u001b[0;34m:\u001b[0m \u001b[0mbatch_x\u001b[0m \u001b[0;34m,\u001b[0m \u001b[0my_true\u001b[0m\u001b[0;34m:\u001b[0m \u001b[0mbatch_y\u001b[0m\u001b[0;34m}\u001b[0m\u001b[0;34m)\u001b[0m \u001b[0;31m# Run the \"train\" operation, feeding the data to fill placeholders\u001b[0m\u001b[0;34m\u001b[0m\u001b[0m\n\u001b[0m\u001b[1;32m     17\u001b[0m \u001b[0;34m\u001b[0m\u001b[0m\n\u001b[1;32m     18\u001b[0m         \u001b[0;32mif\u001b[0m \u001b[0;34m(\u001b[0m\u001b[0mepoch\u001b[0m\u001b[0;34m+\u001b[0m\u001b[0;36m1\u001b[0m\u001b[0;34m)\u001b[0m\u001b[0;34m%\u001b[0m\u001b[0;36m10\u001b[0m \u001b[0;34m==\u001b[0m \u001b[0;36m0\u001b[0m\u001b[0;34m:\u001b[0m\u001b[0;34m\u001b[0m\u001b[0m\n",
      "\u001b[0;32m/Users/ELD/anaconda/lib/python2.7/site-packages/tensorflow/python/client/session.pyc\u001b[0m in \u001b[0;36mrun\u001b[0;34m(self, fetches, feed_dict, options, run_metadata)\u001b[0m\n\u001b[1;32m    887\u001b[0m     \u001b[0;32mtry\u001b[0m\u001b[0;34m:\u001b[0m\u001b[0;34m\u001b[0m\u001b[0m\n\u001b[1;32m    888\u001b[0m       result = self._run(None, fetches, feed_dict, options_ptr,\n\u001b[0;32m--> 889\u001b[0;31m                          run_metadata_ptr)\n\u001b[0m\u001b[1;32m    890\u001b[0m       \u001b[0;32mif\u001b[0m \u001b[0mrun_metadata\u001b[0m\u001b[0;34m:\u001b[0m\u001b[0;34m\u001b[0m\u001b[0m\n\u001b[1;32m    891\u001b[0m         \u001b[0mproto_data\u001b[0m \u001b[0;34m=\u001b[0m \u001b[0mtf_session\u001b[0m\u001b[0;34m.\u001b[0m\u001b[0mTF_GetBuffer\u001b[0m\u001b[0;34m(\u001b[0m\u001b[0mrun_metadata_ptr\u001b[0m\u001b[0;34m)\u001b[0m\u001b[0;34m\u001b[0m\u001b[0m\n",
      "\u001b[0;32m/Users/ELD/anaconda/lib/python2.7/site-packages/tensorflow/python/client/session.pyc\u001b[0m in \u001b[0;36m_run\u001b[0;34m(self, handle, fetches, feed_dict, options, run_metadata)\u001b[0m\n\u001b[1;32m   1118\u001b[0m     \u001b[0;32mif\u001b[0m \u001b[0mfinal_fetches\u001b[0m \u001b[0;32mor\u001b[0m \u001b[0mfinal_targets\u001b[0m \u001b[0;32mor\u001b[0m \u001b[0;34m(\u001b[0m\u001b[0mhandle\u001b[0m \u001b[0;32mand\u001b[0m \u001b[0mfeed_dict_tensor\u001b[0m\u001b[0;34m)\u001b[0m\u001b[0;34m:\u001b[0m\u001b[0;34m\u001b[0m\u001b[0m\n\u001b[1;32m   1119\u001b[0m       results = self._do_run(handle, final_targets, final_fetches,\n\u001b[0;32m-> 1120\u001b[0;31m                              feed_dict_tensor, options, run_metadata)\n\u001b[0m\u001b[1;32m   1121\u001b[0m     \u001b[0;32melse\u001b[0m\u001b[0;34m:\u001b[0m\u001b[0;34m\u001b[0m\u001b[0m\n\u001b[1;32m   1122\u001b[0m       \u001b[0mresults\u001b[0m \u001b[0;34m=\u001b[0m \u001b[0;34m[\u001b[0m\u001b[0;34m]\u001b[0m\u001b[0;34m\u001b[0m\u001b[0m\n",
      "\u001b[0;32m/Users/ELD/anaconda/lib/python2.7/site-packages/tensorflow/python/client/session.pyc\u001b[0m in \u001b[0;36m_do_run\u001b[0;34m(self, handle, target_list, fetch_list, feed_dict, options, run_metadata)\u001b[0m\n\u001b[1;32m   1315\u001b[0m     \u001b[0;32mif\u001b[0m \u001b[0mhandle\u001b[0m \u001b[0;32mis\u001b[0m \u001b[0mNone\u001b[0m\u001b[0;34m:\u001b[0m\u001b[0;34m\u001b[0m\u001b[0m\n\u001b[1;32m   1316\u001b[0m       return self._do_call(_run_fn, self._session, feeds, fetches, targets,\n\u001b[0;32m-> 1317\u001b[0;31m                            options, run_metadata)\n\u001b[0m\u001b[1;32m   1318\u001b[0m     \u001b[0;32melse\u001b[0m\u001b[0;34m:\u001b[0m\u001b[0;34m\u001b[0m\u001b[0m\n\u001b[1;32m   1319\u001b[0m       \u001b[0;32mreturn\u001b[0m \u001b[0mself\u001b[0m\u001b[0;34m.\u001b[0m\u001b[0m_do_call\u001b[0m\u001b[0;34m(\u001b[0m\u001b[0m_prun_fn\u001b[0m\u001b[0;34m,\u001b[0m \u001b[0mself\u001b[0m\u001b[0;34m.\u001b[0m\u001b[0m_session\u001b[0m\u001b[0;34m,\u001b[0m \u001b[0mhandle\u001b[0m\u001b[0;34m,\u001b[0m \u001b[0mfeeds\u001b[0m\u001b[0;34m,\u001b[0m \u001b[0mfetches\u001b[0m\u001b[0;34m)\u001b[0m\u001b[0;34m\u001b[0m\u001b[0m\n",
      "\u001b[0;32m/Users/ELD/anaconda/lib/python2.7/site-packages/tensorflow/python/client/session.pyc\u001b[0m in \u001b[0;36m_do_call\u001b[0;34m(self, fn, *args)\u001b[0m\n\u001b[1;32m   1321\u001b[0m   \u001b[0;32mdef\u001b[0m \u001b[0m_do_call\u001b[0m\u001b[0;34m(\u001b[0m\u001b[0mself\u001b[0m\u001b[0;34m,\u001b[0m \u001b[0mfn\u001b[0m\u001b[0;34m,\u001b[0m \u001b[0;34m*\u001b[0m\u001b[0margs\u001b[0m\u001b[0;34m)\u001b[0m\u001b[0;34m:\u001b[0m\u001b[0;34m\u001b[0m\u001b[0m\n\u001b[1;32m   1322\u001b[0m     \u001b[0;32mtry\u001b[0m\u001b[0;34m:\u001b[0m\u001b[0;34m\u001b[0m\u001b[0m\n\u001b[0;32m-> 1323\u001b[0;31m       \u001b[0;32mreturn\u001b[0m \u001b[0mfn\u001b[0m\u001b[0;34m(\u001b[0m\u001b[0;34m*\u001b[0m\u001b[0margs\u001b[0m\u001b[0;34m)\u001b[0m\u001b[0;34m\u001b[0m\u001b[0m\n\u001b[0m\u001b[1;32m   1324\u001b[0m     \u001b[0;32mexcept\u001b[0m \u001b[0merrors\u001b[0m\u001b[0;34m.\u001b[0m\u001b[0mOpError\u001b[0m \u001b[0;32mas\u001b[0m \u001b[0me\u001b[0m\u001b[0;34m:\u001b[0m\u001b[0;34m\u001b[0m\u001b[0m\n\u001b[1;32m   1325\u001b[0m       \u001b[0mmessage\u001b[0m \u001b[0;34m=\u001b[0m \u001b[0mcompat\u001b[0m\u001b[0;34m.\u001b[0m\u001b[0mas_text\u001b[0m\u001b[0;34m(\u001b[0m\u001b[0me\u001b[0m\u001b[0;34m.\u001b[0m\u001b[0mmessage\u001b[0m\u001b[0;34m)\u001b[0m\u001b[0;34m\u001b[0m\u001b[0m\n",
      "\u001b[0;32m/Users/ELD/anaconda/lib/python2.7/site-packages/tensorflow/python/client/session.pyc\u001b[0m in \u001b[0;36m_run_fn\u001b[0;34m(session, feed_dict, fetch_list, target_list, options, run_metadata)\u001b[0m\n\u001b[1;32m   1300\u001b[0m           return tf_session.TF_Run(session, options,\n\u001b[1;32m   1301\u001b[0m                                    \u001b[0mfeed_dict\u001b[0m\u001b[0;34m,\u001b[0m \u001b[0mfetch_list\u001b[0m\u001b[0;34m,\u001b[0m \u001b[0mtarget_list\u001b[0m\u001b[0;34m,\u001b[0m\u001b[0;34m\u001b[0m\u001b[0m\n\u001b[0;32m-> 1302\u001b[0;31m                                    status, run_metadata)\n\u001b[0m\u001b[1;32m   1303\u001b[0m \u001b[0;34m\u001b[0m\u001b[0m\n\u001b[1;32m   1304\u001b[0m     \u001b[0;32mdef\u001b[0m \u001b[0m_prun_fn\u001b[0m\u001b[0;34m(\u001b[0m\u001b[0msession\u001b[0m\u001b[0;34m,\u001b[0m \u001b[0mhandle\u001b[0m\u001b[0;34m,\u001b[0m \u001b[0mfeed_dict\u001b[0m\u001b[0;34m,\u001b[0m \u001b[0mfetch_list\u001b[0m\u001b[0;34m)\u001b[0m\u001b[0;34m:\u001b[0m\u001b[0;34m\u001b[0m\u001b[0m\n",
      "\u001b[0;31mKeyboardInterrupt\u001b[0m: "
     ]
    }
   ],
   "source": [
    "with tf.Session() as sess:\n",
    "    \n",
    "    writer = tf.summary.FileWriter(mypath,sess.graph)\n",
    "    merged = tf.summary.merge_all()\n",
    "    \n",
    "    sess.run(init) # initialize all the variables before training\n",
    "    batch_size = 96 # we will feed the network with batches of 10 data points and train only with this datapoint \n",
    "    batches = len(X_train)//batch_size # the network is fed as many times as necessary to train with all the data\n",
    "    epochs = 200 # Once we have train our network with all of our dta points we have completed one epoch.\n",
    "    \n",
    "    for epoch in range(epochs): #we train for all the epochs we want\n",
    "        for i in range(batches): #we train for all the batches in the dataset\n",
    "            \n",
    "            batch_x = X_train[i*batch_size:(i+1)*batch_size]\n",
    "            batch_y = y_train[i*batch_size:(i+1)*batch_size]\n",
    "            sess.run(train_class, feed_dict={x: batch_x , y_true: batch_y}) # Run the \"train\" operation, feeding the data to fill placeholders    \n",
    "    \n",
    "        if (epoch+1)%10 == 0:\n",
    "            train_acc = sess.run(accuracy,feed_dict={x: batch_x,y_true: batch_y})\n",
    "            test_acc = sess.run(accuracy,feed_dict={x: X_test,y_true: y_test})\n",
    "            print('Training epoch {}/{}. Train Accuracy = {} , Test Accuracy = {}'.format(epoch,epochs,train_acc,test_acc))\n",
    "            \n",
    "            result = sess.run(merged,feed_dict={x: batch_x,y_true: batch_y})\n",
    "            writer.add_summary(result, epoch)\n",
    "            \n",
    "    test_pred =  sess.run(y_pred,feed_dict={x: X_test})"
   ]
  },
  {
   "cell_type": "code",
   "execution_count": 205,
   "metadata": {
    "collapsed": true
   },
   "outputs": [],
   "source": [
    "prediction = np.argmax(test_pred, axis=1)\n",
    "true = np.argmax(y_test, axis=1)"
   ]
  },
  {
   "cell_type": "code",
   "execution_count": 206,
   "metadata": {
    "collapsed": true
   },
   "outputs": [],
   "source": [
    "total_classes = np.sum(confusion_matrix(prediction,true),axis=1)*1.0\n",
    "matrix = confusion_matrix(true,prediction)*1.0"
   ]
  },
  {
   "cell_type": "code",
   "execution_count": 207,
   "metadata": {},
   "outputs": [
    {
     "data": {
      "image/png": "[encoded data removed]",
      "text/plain": [
       "<matplotlib.figure.Figure at 0x1210c6ed0>"
      ]
     },
     "metadata": {},
     "output_type": "display_data"
    }
   ],
   "source": [
    "df_cm = pd.DataFrame(np.divide(matrix * 100, total_classes), range(3), range(3))\n",
    "sn.set(font_scale=1.4)#for label size\n",
    "fig, ax0 = plt.subplots(1,1)\n",
    "ax = sn.heatmap(df_cm, annot=True, fmt = '.1f', square=1, linewidth=1.,vmin=0, vmax=100,cmap='Purples')\n",
    "for t in ax.texts: t.set_text(t.get_text() + \" %\")\n",
    "plt.show()"
   ]
  },
  {
   "cell_type": "markdown",
   "metadata": {},
   "source": [
    "## Tensorboard\n",
    "\n",
    "To run tensorboard. Open a terminal, go to the folder where this notebook is contained and run: 'tensorboard --logdir=\"logs\"'\n",
    "Let the comand execute, then copy and paste the link that will show up in your command promp. It should look something like: 'http://LAPTOP-4O8SCB9R:6006'"
   ]
  },
  {
   "cell_type": "code",
   "execution_count": null,
   "metadata": {
    "collapsed": true
   },
   "outputs": [],
   "source": []
  }
 ],
 "metadata": {
  "kernelspec": {
   "display_name": "Python 2",
   "language": "python",
   "name": "python2"
  },
  "language_info": {
   "codemirror_mode": {
    "name": "ipython",
    "version": 2
   },
   "file_extension": ".py",
   "mimetype": "text/x-python",
   "name": "python",
   "nbconvert_exporter": "python",
   "pygments_lexer": "ipython2",
   "version": "2.7.13"
  }
 },
 "nbformat": 4,
 "nbformat_minor": 2
}
